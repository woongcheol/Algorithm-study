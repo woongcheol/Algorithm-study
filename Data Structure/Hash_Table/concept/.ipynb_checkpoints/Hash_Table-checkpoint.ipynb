{
 "cells": [
  {
   "cell_type": "markdown",
   "id": "9edc5802",
   "metadata": {},
   "source": [
    "## Hash Table\n",
    "- 해쉬 구조란 키에 데이터를 저장하는 구조이다. 이로 인해 키를 통해 바로 데이터를 받아올 수 있기 때문에 검색 속도가 빨라진다. 이러한 구조로 파이썬에서 딕셔너리 타입을 사용하고 있다.\n",
    "- 알아둘 용어\n",
    "    - 해쉬 : 임의 값을 고정 길이로 변환하는 것을 의미한다. 방대한 데이터를 고정된 값으로 바꾼다.\n",
    "    - 해쉬 테이블 : 키 값의 연산에 의해 직접 접근이 가능한 데이터 구조이다.\n",
    "    - 해싱 함수 : 키에 대해 산술 연살을 이용해 데이터의 위치를 찾을 수 있는 함수이다.\n",
    "    - 해쉬 값(해쉬 주소) : 해싱 함수의 결과 값이다.\n",
    "    - 슬롯 : 한 개의 데이터를 저장할 수 있는 공간이다."
   ]
  },
  {
   "cell_type": "markdown",
   "id": "c9095a0c",
   "metadata": {},
   "source": [
    "## 1. 간단한 해쉬 예"
   ]
  },
  {
   "cell_type": "markdown",
   "id": "904fc6ed",
   "metadata": {},
   "source": [
    "### 1-1. hash table 만들기"
   ]
  },
  {
   "cell_type": "code",
   "execution_count": 7,
   "id": "957ab252",
   "metadata": {},
   "outputs": [],
   "source": [
    "hash_table = [i for i in range(10)]"
   ]
  },
  {
   "cell_type": "code",
   "execution_count": 8,
   "id": "9821915b",
   "metadata": {},
   "outputs": [
    {
     "data": {
      "text/plain": [
       "[0, 1, 2, 3, 4, 5, 6, 7, 8, 9]"
      ]
     },
     "execution_count": 8,
     "metadata": {},
     "output_type": "execute_result"
    }
   ],
   "source": [
    "hash_table"
   ]
  },
  {
   "cell_type": "markdown",
   "id": "1e3d87dd",
   "metadata": {},
   "source": [
    "### 1-2. hash function 생성"
   ]
  },
  {
   "cell_type": "code",
   "execution_count": 9,
   "id": "ab46cf3d",
   "metadata": {},
   "outputs": [],
   "source": [
    "def hash_func(key):\n",
    "    return key % 5"
   ]
  },
  {
   "cell_type": "markdown",
   "id": "09c61d68",
   "metadata": {},
   "source": [
    "### 1-3. hash table 저장"
   ]
  },
  {
   "cell_type": "code",
   "execution_count": 10,
   "id": "ba16f29c",
   "metadata": {},
   "outputs": [
    {
     "name": "stdout",
     "output_type": "stream",
     "text": [
      "65 77 68\n"
     ]
    }
   ],
   "source": [
    "data1 = 'Andy'\n",
    "data2 = 'Max'\n",
    "data3 = 'Dave'\n",
    "\n",
    "# ord(): 문자의 ASCII 코드 리턴\n",
    "print(ord(data1[0]), ord(data2[0]), ord(data3[0]))"
   ]
  },
  {
   "cell_type": "code",
   "execution_count": 11,
   "id": "2b0cb61a",
   "metadata": {},
   "outputs": [],
   "source": [
    "def storage_data(data, value):\n",
    "    key = ord(data[0])\n",
    "    hash_address = hash_func(key)\n",
    "    hash_table[hash_address] = value"
   ]
  },
  {
   "cell_type": "markdown",
   "id": "a1ace00d",
   "metadata": {},
   "source": [
    "### 1.4 hash table에서 특정 주소의 데이터를 가져오는 함수"
   ]
  },
  {
   "cell_type": "code",
   "execution_count": 12,
   "id": "d727d522",
   "metadata": {},
   "outputs": [],
   "source": [
    "storage_data('Andy', '01055553333')\n",
    "storage_data('Dave', '01055553333')\n",
    "storage_data('Trump', '01055553333')"
   ]
  },
  {
   "cell_type": "markdown",
   "id": "20bc263d",
   "metadata": {},
   "source": [
    "### 1.5 실제 데이터를 저장하고 읽기"
   ]
  },
  {
   "cell_type": "code",
   "execution_count": 14,
   "id": "7b8aa6f9",
   "metadata": {},
   "outputs": [],
   "source": [
    "def get_data(data):\n",
    "    key = ord(data[0])\n",
    "    hash_address = hash_func(key)\n",
    "    return hash_table[hash_address]"
   ]
  },
  {
   "cell_type": "code",
   "execution_count": 16,
   "id": "bb724e79",
   "metadata": {},
   "outputs": [
    {
     "data": {
      "text/plain": [
       "'01055553333'"
      ]
     },
     "execution_count": 16,
     "metadata": {},
     "output_type": "execute_result"
    }
   ],
   "source": [
    "get_data('Andy')"
   ]
  },
  {
   "cell_type": "markdown",
   "id": "66126a8d",
   "metadata": {},
   "source": [
    "## 2. 자료 구조 해쉬 테이블의 장단점과 주요 용도\n",
    "- 장점\n",
    "  - 데이터 저장/읽기 속도가 빠르다. (검색 속도가 빠르다.)\n",
    "  - 해쉬는 키에 대한 데이터가 있는지(중복) 확인이 쉬움\n",
    "- 단점 \n",
    "  - 일반적으로 저장공간이 좀더 많이 필요하다.\n",
    "  - **여러 키에 해당하는 주소가 동일할 경우 충돌을 해결하기 위한 별도 자료구조가 필요함**\n",
    "- 주요 용도\n",
    "  - 검색이 많이 필요한 경우\n",
    "  - 저장, 삭제, 읽기가 빈번한 경우\n",
    "  - 캐쉬 구현시 (중복 확인이 쉽기 때문)"
   ]
  },
  {
   "cell_type": "markdown",
   "id": "6140e576",
   "metadata": {},
   "source": [
    "## 3. 충돌(Collision) 해결 알고리즘 (좋은 해쉬 함수 사용하기)\n",
    "> 해쉬 테이블의 가장 큰 문제는 충돌(Collision)의 경우입니다.\n",
    "> 이 문제를 충돌(Collision) 또는 해쉬 충돌(Hash Collision)이라고 부릅니다."
   ]
  },
  {
   "cell_type": "markdown",
   "id": "dca594d9",
   "metadata": {},
   "source": [
    "### 3.1 Chaining 기법\n",
    "- **개방 해슁 또는 Open Hashing 기법** 중 하나: 해쉬 테이블 저장공간 외의 공간을 활용하는 기법\n",
    "- 충돌이 일어나면, 링크드 리스트라는 자료 구조를 사용해서, 링크드 리스트로 데이터를 추가로 뒤에 연결시켜서 저장하는 기법"
   ]
  },
  {
   "cell_type": "markdown",
   "id": "f98381f5",
   "metadata": {},
   "source": [
    "### 3.2 Linear Probing 기법\n",
    "- **폐쇄 해슁 또는 Close Hashing 기법** 중 하나: 해쉬 테이블 저장공간 안에서 충돌 문제를 해결하는 기법\n",
    "- 충돌이 일어나면, 해당 hash address의 다음 address부터 맨 처음 나오는 빈공간에 저장하는 기법\n",
    "  - 저장공간 활용도를 높이기 위한 기법"
   ]
  },
  {
   "cell_type": "markdown",
   "id": "a7bcd994",
   "metadata": {},
   "source": [
    "### 3.3 빈번한 충돌을 개선하는 기법\n",
    "- 해쉬 함수을 재정의 및 해쉬 테이블 저장공간을 확대\n",
    "- 예:\n",
    "```python\n",
    "hash_table = list([None for i in range(16)])\n",
    "\n",
    "def hash_function(key):\n",
    "    return key % 16\n",
    "```"
   ]
  },
  {
   "cell_type": "markdown",
   "id": "52e0c175",
   "metadata": {},
   "source": [
    "### 참고: 해쉬 함수와 키 생성 함수\n",
    "- 파이썬의 hash() 함수는 실행할 때마다, 값이 달라질 수 있음\n",
    "- 유명한 해쉬 함수들이 있음: SHA(Secure Hash Algorithm, 안전한 해시 알고리즘)\n",
    "  - 어떤 데이터도 유일한 고정된 크기의 고정값을 리턴해주므로, 해쉬 함수로 유용하게 활용 가능"
   ]
  },
  {
   "cell_type": "markdown",
   "id": "f5f7935f",
   "metadata": {},
   "source": [
    "#### SHA-1"
   ]
  },
  {
   "cell_type": "code",
   "execution_count": 5,
   "id": "fb19fd6d",
   "metadata": {},
   "outputs": [
    {
     "name": "stdout",
     "output_type": "stream",
     "text": [
      "b'test'\n"
     ]
    }
   ],
   "source": [
    "import hashlib\n",
    "\n",
    "data = 'test'.encode() # str를 바이트화 -> 특정 문자의 고유값 출력\n",
    "print(data)"
   ]
  },
  {
   "cell_type": "code",
   "execution_count": 7,
   "id": "423a9f21",
   "metadata": {},
   "outputs": [
    {
     "name": "stdout",
     "output_type": "stream",
     "text": [
      "<sha1 _hashlib.HASH object @ 0x000002D160033090>\n"
     ]
    }
   ],
   "source": [
    "hash_object = hashlib.sha1() # sha-1 해쉬 함수 생성\n",
    "hash_object.update(data) # 데이터 입력 및 업데이트\n",
    "print(hash_object)"
   ]
  },
  {
   "cell_type": "code",
   "execution_count": 8,
   "id": "4210e8e7",
   "metadata": {},
   "outputs": [
    {
     "name": "stdout",
     "output_type": "stream",
     "text": [
      "a94a8fe5ccb19ba61c4c0873d391e987982fbbd3\n"
     ]
    }
   ],
   "source": [
    "hex_dig = hash_object.hexdigest() # 해쉬 값 추출(16진수)\n",
    "print (hex_dig)"
   ]
  },
  {
   "cell_type": "markdown",
   "id": "874bea49",
   "metadata": {},
   "source": [
    "#### SHA-256"
   ]
  },
  {
   "cell_type": "code",
   "execution_count": 12,
   "id": "7731ce6e",
   "metadata": {},
   "outputs": [
    {
     "name": "stdout",
     "output_type": "stream",
     "text": [
      "b'test'\n"
     ]
    }
   ],
   "source": [
    "import hashlib\n",
    "\n",
    "data = 'test'.encode() # str를 바이트화 -> 특정 문자의 고유값 출력\n",
    "print(data)"
   ]
  },
  {
   "cell_type": "code",
   "execution_count": 13,
   "id": "1faca541",
   "metadata": {},
   "outputs": [
    {
     "name": "stdout",
     "output_type": "stream",
     "text": [
      "<sha256 _hashlib.HASH object @ 0x000002D160033190>\n"
     ]
    }
   ],
   "source": [
    "hash_object = hashlib.sha256() # sha-256 해쉬 함수 생성\n",
    "hash_object.update(data) # 데이터 입력 및 업데이트\n",
    "print(hash_object)"
   ]
  },
  {
   "cell_type": "code",
   "execution_count": 14,
   "id": "34978fd2",
   "metadata": {},
   "outputs": [
    {
     "name": "stdout",
     "output_type": "stream",
     "text": [
      "9f86d081884c7d659a2feaa0c55ad015a3bf4f1b2b0b822cd15d6c15b0f00a08\n"
     ]
    }
   ],
   "source": [
    "hex_dig = hash_object.hexdigest() # 해쉬 값 추출(16진수)\n",
    "print (hex_dig)"
   ]
  }
 ],
 "metadata": {
  "kernelspec": {
   "display_name": "Python 3 (ipykernel)",
   "language": "python",
   "name": "python3"
  },
  "language_info": {
   "codemirror_mode": {
    "name": "ipython",
    "version": 3
   },
   "file_extension": ".py",
   "mimetype": "text/x-python",
   "name": "python",
   "nbconvert_exporter": "python",
   "pygments_lexer": "ipython3",
   "version": "3.9.7"
  }
 },
 "nbformat": 4,
 "nbformat_minor": 5
}
