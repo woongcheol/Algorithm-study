{
 "cells": [
  {
   "cell_type": "markdown",
   "id": "ec702ee5",
   "metadata": {},
   "source": [
    "## 순차 탐색 (Sequential Search)"
   ]
  },
  {
   "cell_type": "markdown",
   "id": "7a4dc424",
   "metadata": {},
   "source": [
    "### 1. 순차 탐색 (Sequential Search) 이란?\n",
    "* 탐색은 여러 데이터 중에서 원하는 데이터를 찾아내는 것을 의미\n",
    "* 데이터가 담겨있는 리스트를 앞에서부터 하나씩 비교해서 원하는 데이터를 찾는 방법"
   ]
  },
  {
   "cell_type": "markdown",
   "id": "ef08be7c",
   "metadata": {},
   "source": [
    "### 2. 알고리즘 분석\n",
    "* 최악의 경우 리스트 길이가 n일 때, n번 비교해야 함\n",
    "  - O(n)"
   ]
  }
 ],
 "metadata": {
  "kernelspec": {
   "display_name": "Python 3 (ipykernel)",
   "language": "python",
   "name": "python3"
  },
  "language_info": {
   "codemirror_mode": {
    "name": "ipython",
    "version": 3
   },
   "file_extension": ".py",
   "mimetype": "text/x-python",
   "name": "python",
   "nbconvert_exporter": "python",
   "pygments_lexer": "ipython3",
   "version": "3.9.7"
  }
 },
 "nbformat": 4,
 "nbformat_minor": 5
}
