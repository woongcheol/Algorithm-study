{
 "cells": [
  {
   "cell_type": "markdown",
   "id": "1ab5e902",
   "metadata": {},
   "source": [
    "## 대표적인 정렬1: 버블 정렬 (bubble sort) "
   ]
  },
  {
   "cell_type": "markdown",
   "id": "3a442fd9",
   "metadata": {},
   "source": [
    "### 1. 정렬 (sorting) 이란?\n",
    "- 정렬 (sorting): 어떤 데이터들이 주어졌을 때 이를 정해진 순서대로 나열하는 것\n",
    "- 정렬은 프로그램 작성시 빈번하게 필요로 함\n",
    "- 다양한 알고리즘이 고안되었으며, 알고리즘 학습의 필수\n",
    "\n",
    "> 다양한 정렬 알고리즘 이해를 통해, 동일한 문제에 대해 다양한 알고리즘이 고안될 수 있음을 이해하고,\n",
    "> 각 알고리즘간 성능 비교를 통해, 알고리즘 성능 분석에 대해서도 이해할 수 있음"
   ]
  },
  {
   "cell_type": "markdown",
   "id": "299cce71",
   "metadata": {},
   "source": [
    "### 2. 버블 정렬 (bubble sort) 란?\n",
    "* 두 인접한 데이터를 비교해서, 앞에 있는 데이터가 뒤에 있는 데이터보다 크면, 자리를 바꾸는 정렬 알고리즘\n",
    "\n",
    "#### 직접 눈으로 보면 더 이해가 쉽다: https://visualgo.net/en/sorting\n",
    "\n",
    "<img src=\"https://upload.wikimedia.org/wikipedia/commons/c/c8/Bubble-sort-example-300px.gif\" width=600/>\n",
    "\n",
    "> 출처: https://en.wikipedia.org/wiki/Bubble_sort"
   ]
  },
  {
   "cell_type": "markdown",
   "id": "ae1eb375",
   "metadata": {},
   "source": [
    "### 3. 어떻게 코드로 만들까?\n",
    "\n",
    "> 알고리즘 연습 방법에 기반해서 단계별로 생각해봅니다."
   ]
  },
  {
   "cell_type": "markdown",
   "id": "277bfd40",
   "metadata": {},
   "source": [
    "* 데이터가 네 개 일때 (데이터 갯수에 따라 복잡도가 떨어지는 것은 아니므로, 네 개로 바로 로직을 이해해보자.)\n",
    "  - 예: data_list = [1, 9, 3, 2]\n",
    "    - 1차 로직 적용\n",
    "      - 1 와 9 비교, 자리바꿈없음 [1, 9, 3, 2]\n",
    "      - 9 와 3 비교, 자리바꿈 [1, 3, 9, 2]\n",
    "      - 9 와 2 비교, 자리바꿈 [1, 3, 2, 9]\n",
    "    - 2차 로직 적용\n",
    "      - 1 와 3 비교, 자리바꿈없음 [1, 3, 2, 9]\n",
    "      - 3 과 2 비교, 자리바꿈 [1, 2, 3, 9]\n",
    "      - 3 와 9 비교, 자리바꿈없음 [1, 2, 3, 9]\n",
    "    - 3차 로직 적용\n",
    "      - 1 과 2 비교, 자리바꿈없음 [1, 2, 3, 9]\n",
    "      - 2 과 3 비교, 자리바꿈없음 [1, 2, 3, 9]\n",
    "      - 3 과 9 비교, 자리바꿈없음 [1, 2, 3, 9]"
   ]
  },
  {
   "cell_type": "markdown",
   "id": "2fab517a",
   "metadata": {},
   "source": [
    "### 4. 알고리즘 구현\n",
    "* **특이점 찾아보기**\n",
    "  - n개의 리스트가 있는 경우 최대 n-1번의 로직을 적용한다.\n",
    "  - 로직을 1번 적용할 때마다 가장 큰 숫자가 뒤에서부터 1개씩 결정된다.\n",
    "  - 로직이 경우에 따라 일찍 끝날 수도 있다. 따라서 로직을 적용할 때 한 번도 데이터가 교환된 적이 없다면 이미 정렬된 상태이므로 더 이상 로직을 반복 적용할 필요가 없다.\n",
    "<img src=\"https://www.fun-coding.org/00_Images/bubblealgo.png\" />"
   ]
  },
  {
   "cell_type": "markdown",
   "id": "b9915e8b",
   "metadata": {},
   "source": [
    "1. for num in range(len(data_list)) 반복\n",
    "2. swap = 0 (교환이 되었는지를 확인하는 변수를 두자)\n",
    "2. 반복문 안에서, for index in range(len(data_list) - num - 1) n - 1번 반복해야 하므로\n",
    "3. 반복문안의 반복문 안에서, if data_list[index] > data_list[index + 1] 이면\n",
    "4.                data_list[index], data_list[index + 1] = data_list[index + 1], data_list[index]\n",
    "5.                swap += 1\n",
    "6. 반복문 안에서, if swap == 0 이면, break 끝"
   ]
  },
  {
   "cell_type": "markdown",
   "id": "5022552b",
   "metadata": {},
   "source": [
    "### 5. 알고리즘 분석\n",
    "* 반복문이 두 개 O($n^2$)\n",
    "  - 최악의 경우, <font size=5em>$\\frac { n * (n - 1)}{ 2 }$</font>\n",
    "* 완전 정렬이 되어 있는 상태라면 최선은 O(n)"
   ]
  },
  {
   "cell_type": "markdown",
   "id": "020b14e9",
   "metadata": {},
   "source": [
    "<div class=\"alert alert-block alert-info\">\n",
    "<strong><font color=\"blue\" size=\"4em\">프로그래밍 연습</font></strong><br>\n",
    "지금 설명한 버블 정렬을 알고리즘 연습 방법에 따라서, 다시 스스로 작성해보세요<br>\n",
    "</div>"
   ]
  },
  {
   "cell_type": "code",
   "execution_count": 5,
   "id": "a711f5c6",
   "metadata": {},
   "outputs": [
    {
     "name": "stdout",
     "output_type": "stream",
     "text": [
      "[18, 26, 6, 11, 23, 28, 25, 13, 27, 2]\n",
      "[2, 6, 11, 13, 18, 23, 25, 26, 27, 28]\n"
     ]
    }
   ],
   "source": [
    "# Bubble Sort\n",
    "import random\n",
    "\n",
    "def bubble_sort(data):\n",
    "    for idx in range(0, len(data)-1):\n",
    "        sorted = False\n",
    "        for idx2 in range(len(data)-idx-1):\n",
    "            if data[idx2] > data[idx2+1]:\n",
    "                data[idx2], data[idx2+1] = data[idx2+1], data[idx2]\n",
    "                sorted = True\n",
    "        if sorted == False:\n",
    "            break\n",
    "    return data\n",
    "\n",
    "data = random.sample(range(30), 10)\n",
    "print(data)\n",
    "print(bubble_sort(data))"
   ]
  }
 ],
 "metadata": {
  "kernelspec": {
   "display_name": "Python 3 (ipykernel)",
   "language": "python",
   "name": "python3"
  },
  "language_info": {
   "codemirror_mode": {
    "name": "ipython",
    "version": 3
   },
   "file_extension": ".py",
   "mimetype": "text/x-python",
   "name": "python",
   "nbconvert_exporter": "python",
   "pygments_lexer": "ipython3",
   "version": "3.9.7"
  }
 },
 "nbformat": 4,
 "nbformat_minor": 5
}
