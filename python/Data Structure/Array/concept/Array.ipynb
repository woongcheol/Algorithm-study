{
 "cells": [
  {
   "cell_type": "markdown",
   "id": "479e262b",
   "metadata": {},
   "source": [
    "## 배열(Array)"
   ]
  },
  {
   "cell_type": "markdown",
   "id": "ab696753",
   "metadata": {},
   "source": [
    "- 데이터를 나열하고 각 데이터를 인덱스에 대응하도록 구성한 데이터 구조\n",
    "- 파이썬에서는 리스트 타입이 배열 기능을 제공"
   ]
  },
  {
   "cell_type": "markdown",
   "id": "c30276ae",
   "metadata": {},
   "source": [
    "### 1. 배열이 필요한 이유\n",
    "- 같은 종류의 데이터를 효율적으로 관리하기 위해 사용\n",
    "- 같은 종류의 데이터를 순차적으로 저장"
   ]
  },
  {
   "cell_type": "markdown",
   "id": "4f56440d",
   "metadata": {},
   "source": [
    "- 배열의 장점:\n",
    "    - 빠른 접근이 가능\n",
    "- 배열의 단점:\n",
    "    - 추가/삭제가 쉽지 않음"
   ]
  },
  {
   "cell_type": "markdown",
   "id": "215458ec",
   "metadata": {},
   "source": [
    "### 2. 파이썬과 C 언어의 배열 차이"
   ]
  },
  {
   "cell_type": "code",
   "execution_count": null,
   "id": "dea40dbb",
   "metadata": {},
   "outputs": [],
   "source": [
    "#include <stdio.h> \n",
    "\n",
    "int main(int argc, char * argv[]) # c언어는 길이를 사전에 지정해야한다\n",
    "{\n",
    "    char country[3] = \"US\";\n",
    "    printf (\"%c%c\\n\", country[0], country[1]);\n",
    "    printf (\"%s\\n\", country);    \n",
    "    return 0;\n",
    "}"
   ]
  },
  {
   "cell_type": "code",
   "execution_count": 3,
   "id": "641f3201",
   "metadata": {},
   "outputs": [
    {
     "name": "stdout",
     "output_type": "stream",
     "text": [
      "US\n",
      "USA\n"
     ]
    }
   ],
   "source": [
    "country = 'US' \n",
    "print(country)\n",
    "\n",
    "country = country + 'A'\n",
    "print(country)"
   ]
  },
  {
   "cell_type": "code",
   "execution_count": 4,
   "id": "805c9227",
   "metadata": {},
   "outputs": [
    {
     "name": "stdout",
     "output_type": "stream",
     "text": [
      "[1, 2, 3, 4, 5]\n"
     ]
    }
   ],
   "source": [
    "# 1차원 배열 : 리스트로 구현시\n",
    "data = [1, 2, 3, 4, 5]\n",
    "print(data)"
   ]
  },
  {
   "cell_type": "code",
   "execution_count": 6,
   "id": "c51a4d9e",
   "metadata": {},
   "outputs": [
    {
     "name": "stdout",
     "output_type": "stream",
     "text": [
      "[[1, 2, 3], [4, 5, 6], [7, 8, 9]]\n"
     ]
    }
   ],
   "source": [
    "# 2차원 배열 : 리스트로 구현시\n",
    "data = [[1, 2, 3], [4, 5, 6], [7, 8, 9]]\n",
    "print(data)"
   ]
  },
  {
   "cell_type": "code",
   "execution_count": 7,
   "id": "a243f88c",
   "metadata": {},
   "outputs": [
    {
     "name": "stdout",
     "output_type": "stream",
     "text": [
      "[1, 2, 3]\n"
     ]
    }
   ],
   "source": [
    "print(data[0])"
   ]
  },
  {
   "cell_type": "markdown",
   "id": "0d5be7dd",
   "metadata": {},
   "source": [
    "### 3. 프로그래밍 연습"
   ]
  },
  {
   "cell_type": "markdown",
   "id": "3dc5daf1",
   "metadata": {},
   "source": [
    "#### 연습 1: 위의 2차원 배열에서 9, 8, 7 순서로 출력하기"
   ]
  },
  {
   "cell_type": "code",
   "execution_count": 9,
   "id": "3f36ac97",
   "metadata": {},
   "outputs": [
    {
     "name": "stdout",
     "output_type": "stream",
     "text": [
      "9\n",
      "8\n",
      "7\n"
     ]
    }
   ],
   "source": [
    "print(data[2][2])\n",
    "print(data[2][1])\n",
    "print(data[2][0])"
   ]
  },
  {
   "cell_type": "markdown",
   "id": "ca5424a5",
   "metadata": {},
   "source": [
    "#### 연습 2 : 다음 dataset에서 'M'이 몇번 출력 되었는지 확인하기"
   ]
  },
  {
   "cell_type": "code",
   "execution_count": 11,
   "id": "fe879dd7",
   "metadata": {},
   "outputs": [],
   "source": [
    "dataset = ['Braund, Mr. Owen Harris',\n",
    "'Cumings, Mrs. John Bradley (Florence Briggs Thayer)',\n",
    "'Heikkinen, Miss. Laina',\n",
    "'Futrelle, Mrs. Jacques Heath (Lily May Peel)',\n",
    "'Allen, Mr. William Henry',\n",
    "'Moran, Mr. James',\n",
    "'McCarthy, Mr. Timothy J',\n",
    "'Palsson, Master. Gosta Leonard',\n",
    "'Johnson, Mrs. Oscar W (Elisabeth Vilhelmina Berg)',\n",
    "'Nasser, Mrs. Nicholas (Adele Achem)',\n",
    "'Sandstrom, Miss. Marguerite Rut',\n",
    "'Bonnell, Miss. Elizabeth',\n",
    "'Saundercock, Mr. William Henry',\n",
    "'Andersson, Mr. Anders Johan',\n",
    "'Vestrom, Miss. Hulda Amanda Adolfina',\n",
    "'Hewlett, Mrs. (Mary D Kingcome) ',\n",
    "'Rice, Master. Eugene',\n",
    "'Williams, Mr. Charles Eugene',\n",
    "'Vander Planke, Mrs. Julius (Emelia Maria Vandemoortele)',\n",
    "'Masselmani, Mrs. Fatima',\n",
    "'Fynney, Mr. Joseph J',\n",
    "'Beesley, Mr. Lawrence',\n",
    "'McGowan, Miss. Anna \"Annie\"',\n",
    "'Sloper, Mr. William Thompson',\n",
    "'Palsson, Miss. Torborg Danira',\n",
    "'Asplund, Mrs. Carl Oscar (Selma Augusta Emilia Johansson)',\n",
    "'Emir, Mr. Farred Chehab',\n",
    "'Fortune, Mr. Charles Alexander',\n",
    "'Dwyer, Miss. Ellen \"Nellie\"',\n",
    "'Todoroff, Mr. Lalio']"
   ]
  },
  {
   "cell_type": "code",
   "execution_count": 13,
   "id": "791f6aad",
   "metadata": {},
   "outputs": [
    {
     "name": "stdout",
     "output_type": "stream",
     "text": [
      "38\n"
     ]
    }
   ],
   "source": [
    "cnt = 0\n",
    "for i in range(len(dataset)):\n",
    "    for j in range(len(dataset[i])):\n",
    "        if dataset[i][j] == 'M':\n",
    "            cnt += 1\n",
    "print(cnt)"
   ]
  },
  {
   "cell_type": "code",
   "execution_count": 16,
   "id": "24bc28b2",
   "metadata": {},
   "outputs": [
    {
     "name": "stdout",
     "output_type": "stream",
     "text": [
      "38\n"
     ]
    }
   ],
   "source": [
    "cnt = 0\n",
    "for data in dataset:\n",
    "    for index in range(len(data)):\n",
    "        if data[index] == 'M':\n",
    "            cnt += 1\n",
    "print(cnt)"
   ]
  }
 ],
 "metadata": {
  "kernelspec": {
   "display_name": "Python 3 (ipykernel)",
   "language": "python",
   "name": "python3"
  },
  "language_info": {
   "codemirror_mode": {
    "name": "ipython",
    "version": 3
   },
   "file_extension": ".py",
   "mimetype": "text/x-python",
   "name": "python",
   "nbconvert_exporter": "python",
   "pygments_lexer": "ipython3",
   "version": "3.9.7"
  }
 },
 "nbformat": 4,
 "nbformat_minor": 5
}
