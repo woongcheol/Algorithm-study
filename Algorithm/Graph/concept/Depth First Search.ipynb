{
 "cells": [
  {
   "cell_type": "markdown",
   "id": "0e83f347",
   "metadata": {},
   "source": [
    "## 깊이 우선 탐색 (Depth-First Search)"
   ]
  },
  {
   "cell_type": "markdown",
   "id": "a8e331ff",
   "metadata": {},
   "source": [
    "### 1. BFS 와 DFS 란?\n",
    "* 대표적인 그래프 **탐색** 알고리즘\n",
    "  - 너비 우선 탐색 (Breadth First Search): 정점들과 같은 레벨에 있는 노드들 (형제 노드들)을 먼저 탐색하는 방식\n",
    "  - 깊이 우선 탐색 (Depth First Search): 정점의 자식들을 먼저 탐색하는 방식"
   ]
  },
  {
   "cell_type": "markdown",
   "id": "4dd5b068",
   "metadata": {},
   "source": [
    "#### BFS/DFS 방식 이해를 위한 예제\n",
    "- BFS 방식: A - B - C - D - G - H - I - E - F - J \n",
    "  - 한 단계씩 내려가면서, 해당 노드와 같은 레벨에 있는 노드들 (형제 노드들)을 먼저 순회함\n",
    "- DFS 방식: A - B - D - E - F - C - G - H - I - J \n",
    "  - 한 노드의 자식을 타고 끝까지 순회한 후, 다시 돌아와서 다른 형제들의 자식을 타고 내려가며 순화함\n",
    "\n",
    "<img src=\"https://www.fun-coding.org/00_Images/BFSDFS.png\" width=700>"
   ]
  },
  {
   "cell_type": "markdown",
   "id": "cc07c019",
   "metadata": {},
   "source": [
    "### 2. DFS 알고리즘 구현\n",
    "\n",
    "- 자료구조 스택과 큐를 활용함\n",
    "  - need_visit 스택과 visited 큐, 두 개의 자료 구조를 생성\n",
    "\n",
    "> BFS 자료구조는 두 개의 큐를 활용하는데 반해, DFS 는 스택과 큐를 활용한다는 차이가 있음을 인지해야 함"
   ]
  },
  {
   "cell_type": "markdown",
   "id": "d7960cdf",
   "metadata": {},
   "source": [
    "### 3. 시간 복잡도\n",
    "- 일반적인 DFS 시간 복잡도\n",
    "  - 노드 수: V\n",
    "  - 간선 수: E\n",
    "    - 위 코드에서 while need_visit 은 V + E 번 만큼 수행함\n",
    "  - 시간 복잡도: O(V + E)\n",
    "  "
   ]
  }
 ],
 "metadata": {
  "kernelspec": {
   "display_name": "Python 3 (ipykernel)",
   "language": "python",
   "name": "python3"
  },
  "language_info": {
   "codemirror_mode": {
    "name": "ipython",
    "version": 3
   },
   "file_extension": ".py",
   "mimetype": "text/x-python",
   "name": "python",
   "nbconvert_exporter": "python",
   "pygments_lexer": "ipython3",
   "version": "3.9.7"
  }
 },
 "nbformat": 4,
 "nbformat_minor": 5
}
