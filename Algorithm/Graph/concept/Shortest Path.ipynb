{
 "cells": [
  {
   "cell_type": "markdown",
   "id": "7939037d",
   "metadata": {},
   "source": [
    "## 최단 경로 알고리즘의 이해(Shortest Path)"
   ]
  },
  {
   "cell_type": "markdown",
   "id": "5aead96d",
   "metadata": {},
   "source": [
    "### 1. 최단 경로 문제란?\n",
    "- 최단 경로 문제란 두 노드를 잇는 가장 짧은 경로를 찾는 문제임\n",
    "- 가중치 그래프 (Weighted Graph) 에서 간선 (Edge)의 가중치 합이 최소가 되도록 하는 경로를 찾는 것이 목적"
   ]
  },
  {
   "cell_type": "markdown",
   "id": "d5b84be3",
   "metadata": {},
   "source": [
    "### 최단 경로 문제 종류\n",
    "1. 단일 출발 및 단일 도착 (single-source and single-destination shortest path problem) 최단 경로 문제\n",
    "  - 그래프 내의 특정 노드 u 에서 출발, 또다른 특정 노드 v 에 도착하는 가장 짧은 경로를 찾는 문제\n",
    "2. 단일 출발 (single-source shortest path problem) 최단 경로 문제\n",
    "  - 그래프 내의 특정 노드 u 와 그래프 내 다른 모든 노드 각각의 가장 짧은 경로를 찾는 문제\n",
    "  > 따지고 보면 굉장히 헷깔릴 수 있으므로 명확히 하자면, \n",
    "  > 예를 들어 A, B, C, D 라는 노드를 가진 그래프에서 특정 노드를 A 라고 한다면,\n",
    "  > A 외 모든 노드인 B, C, D 각 노드와 A 간에 (즉, A - B, A - C, A - D) 각각 가장 짧은 경로를 찾는 문제를 의미함\n",
    "  \n",
    "  \n",
    "  \n",
    "3. 전체 쌍(all-pair) 최단 경로: 그래프 내의 모든 노드 쌍 (u, v) 에 대한 최단 경로를 찾는 문제"
   ]
  },
  {
   "cell_type": "markdown",
   "id": "861659a7",
   "metadata": {},
   "source": [
    "### 2. 최단 경로 알고리즘 - 다익스트라 알고리즘\n",
    "- 다익스트라 알고리즘은 위의 최단 경로 문제 종류 중, 2번에 해당\n",
    "  - 하나의 정점에서 다른 모든 정점 간의 각각 **가장 짧은 거리**를 구하는 문제\n",
    "\n",
    "### 다익스트라 알고리즘 로직\n",
    "- 첫 정점을 기준으로 연결되어 있는 정점들을 추가해 가며, 최단 거리를 갱신하는 기법\n",
    "- 다익스트라 알고리즘은 너비우선탐색(BFS)와 유사\n",
    "  - 첫 정점부터 각 노드간의 거리를 저장하는 배열을 만든 후, 첫 정점의 인접 노드 간의 거리부터 먼저 계산하면서, 첫 정점부터 해당 노드간의 가장 짧은 거리를 해당 배열에 업데이트\n",
    ">  다익스트라 알고리즘의 다양한 변형 로직이 있지만, 가장 개선된 우선순위 큐를 사용하는 방식에 집중해서 설명하기로 함\n",
    "\n",
    "- 우선순위 큐를 활용한 다익스트라 알고리즘\n",
    "  - 우선순위 큐는 MinHeap 방식을 활용해서, 현재 가장 짧은 거리를 가진 노드 정보를 먼저 꺼내게 됨\n",
    "\n",
    "  1) 첫 정점을 기준으로 배열을 선언하여 첫 정점에서 각 정점까지의 거리를 저장\n",
    "     - 초기에는 첫 정점의 거리는 0, 나머지는 무한대로 저장함 (inf 라고 표현함)\n",
    "     - 우선순위 큐에 (첫 정점, 거리 0) 만 먼저 넣음 \n",
    "  \n",
    "  2) 우선순위 큐에서 노드를 꺼냄\n",
    "     - 처음에는 첫 정점만 저장되어 있으므로, 첫 정점이 꺼내짐\n",
    "     - 첫 정점에 인접한 노드들 각각에 대해, 첫 정점에서 각 노드로 가는 거리와 현재 배열에 저장되어 있는 첫 정점에서 각 정점까지의 거리를 비교한다.\n",
    "     - 배열에 저장되어 있는 거리보다, 첫 정점에서 해당 노드로 가는 거리가 더 짧을 경우, 배열에 해당 노드의 거리를 업데이트한다.\n",
    "     - 배열에 해당 노드의 거리가 업데이트된 경우, 우선순위 큐에 넣는다.\n",
    "       - 결과적으로 너비 우선 탐색 방식과 유사하게, 첫 정점에 인접한 노드들을 순차적으로 방문하게 됨\n",
    "       - 만약 배열에 기록된 현재까지 발견된 가장 짧은 거리보다, 더 긴 거리(루트)를 가진 (노드, 거리)의 경우에는 해당 노드와 인접한 노드간의 거리 계산을 하지 않음\n",
    "\n",
    "  3) 2번의 과정을 우선순위 큐에 꺼낼 노드가 없을 때까지 반복한다."
   ]
  },
  {
   "cell_type": "markdown",
   "id": "405c090d",
   "metadata": {},
   "source": [
    "### 3. 예제로 이해하는 다익스트라 알고리즘 (우선순위 큐 활용)"
   ]
  },
  {
   "cell_type": "markdown",
   "id": "16f55cb0",
   "metadata": {},
   "source": [
    "<img src=\"https://www.fun-coding.org/00_Images/dijkstra.png\" width=300>"
   ]
  },
  {
   "cell_type": "markdown",
   "id": "8c9eb042",
   "metadata": {},
   "source": [
    "### 1단계: 초기화\n",
    "- 첫 정점을 기준으로 배열을 선언하여 첫 정점에서 각 정점까지의 거리를 저장\n",
    "   - 초기에는 첫 정점의 거리는 0, 나머지는 무한대로 저장함 (inf 라고 표현함)\n",
    "   - 우선순위 큐에 (첫 정점, 거리 0) 만 먼저 넣음 "
   ]
  },
  {
   "cell_type": "markdown",
   "id": "8fcc849a",
   "metadata": {},
   "source": [
    "<img src=\"https://www.fun-coding.org/00_Images/dijkstra_initial.png\">"
   ]
  },
  {
   "cell_type": "markdown",
   "id": "443ddc7f",
   "metadata": {},
   "source": [
    "### 2단계: 우선순위 큐에서 추출한 (A, 0) [노드, 첫 노드와의 거리] 를 기반으로 인접한 노드와의 거리 계산\n",
    "- 우선순위 큐에서 노드를 꺼냄\n",
    "     - 처음에는 첫 정점만 저장되어 있으므로, 첫 정점이 꺼내짐\n",
    "     - 첫 정점에 인접한 노드들 각각에 대해, 첫 정점에서 각 노드로 가는 거리와 현재 배열에 저장되어 있는 첫 정점에서 각 정점까지의 거리를 비교한다.\n",
    "     - 배열에 저장되어 있는 거리보다, 첫 정점에서 해당 노드로 가는 거리가 더 짧을 경우, 배열에 해당 노드의 거리를 업데이트한다.\n",
    "     - 배열에 해당 노드의 거리가 업데이트된 경우, 우선순위 큐에 넣는다.\n",
    "       - 결과적으로 너비 우선 탐색 방식과 유사하게, 첫 정점에 인접한 노드들을 순차적으로 방문하게 됨\n",
    "       - 만약 배열에 기록된 현재까지 발견된 가장 짧은 거리보다, 더 긴 거리(루트)를 가진 (노드, 거리)의 경우에는 해당 노드와 인접한 노드간의 거리 계산을 하지 않음\n",
    "       \n",
    "> 이전 표에서 보듯이, 첫 정점 이외에 모두 inf 였었으므로, 첫 정점에 인접한 노드들은 모두 우선순위 큐에 들어가고, 첫 정점과 인접한 노드간의 거리가 배열에 업데이트됨"
   ]
  },
  {
   "cell_type": "markdown",
   "id": "7d5700c7",
   "metadata": {},
   "source": [
    "<img src=\"https://www.fun-coding.org/00_Images/dijkstra_1st.png\">"
   ]
  },
  {
   "cell_type": "markdown",
   "id": "9c90030f",
   "metadata": {},
   "source": [
    "### 3단계: 우선순위 큐에서 (C, 1) [노드, 첫 노드와의 거리] 를 기반으로 인접한 노드와의 거리 계산\n",
    "- 우선순위 큐가 MinHeap(최소 힙) 방식이므로, 위 표에서 넣어진 (C, 1), (D, 2), (B, 8) 중 (C, 1) 이 먼저 추출됨 (pop)\n",
    "- 위 표에서 보듯이 1단계까지의 A - B 최단 거리는 8 인 상황임\n",
    "  - A - C 까지의 거리는 1, C 에 인접한 B, D에서 C - B는 5, 즉 A - C - B 는 1 + 5 = 6 이므로, A - B 최단 거리 8보다 더 작은 거리를 발견, 이를 배열에 업데이트\n",
    "    - 배열에 업데이트했으므로 B, 6 (즉 A에서 B까지의 현재까지 발견한 최단 거리) 값이 우선순위 큐에 넣어짐\n",
    "  - C - D 의 거리는 2, 즉 A - C - D 는 1 + 2 = 3 이므로, A - D의 현재 최단 거리인 2 보다 긴 거리, 그래서 D 의 거리는 업데이트되지 않음\n"
   ]
  },
  {
   "cell_type": "markdown",
   "id": "06acac3e",
   "metadata": {},
   "source": [
    "<img src=\"https://www.fun-coding.org/00_Images/dijkstra_2nd.png\">"
   ]
  },
  {
   "cell_type": "markdown",
   "id": "63aa1aef",
   "metadata": {},
   "source": [
    "### 4단계: 우선순위 큐에서 (D, 2) [노드, 첫 노드와의 거리] 를 기반으로 인접한 노드와의 거리 계산\n",
    "- 지금까지 접근하지 못했던 E와 F 거리가 계산됨\n",
    "  - A - D 까지의 거리인 2 에 D - E 가 3 이므로 이를 더해서 E, 5\n",
    "  - A - D 까지의 거리인 2 에 D - F 가 5 이므로 이를 더해서 F, 7"
   ]
  },
  {
   "cell_type": "markdown",
   "id": "05ee80e6",
   "metadata": {},
   "source": [
    "<img src=\"https://www.fun-coding.org/00_Images/dijkstra_3rd.png\">"
   ]
  },
  {
   "cell_type": "markdown",
   "id": "982e0891",
   "metadata": {},
   "source": [
    "### 5단계: 우선순위 큐에서 (E, 5) [노드, 첫 노드와의 거리] 를 기반으로 인접한 노드와의 거리 계산\n",
    "- A - E 거리가 5인 상태에서, E에 인접한 F를 가는 거리는 1, 즉 A - E - F 는 5 + 1 = 6, 현재 배열에 A - F 최단거리가 7로 기록되어 있으므로, F, 6 으로 업데이트\n",
    "  - 우선순위 큐에 F, 6 추가"
   ]
  },
  {
   "cell_type": "markdown",
   "id": "0fde4dfa",
   "metadata": {},
   "source": [
    "<img src=\"https://www.fun-coding.org/00_Images/dijkstra_3-2th.png\">"
   ]
  },
  {
   "cell_type": "markdown",
   "id": "118eec99",
   "metadata": {},
   "source": [
    "### 6단계: 우선순위 큐에서 (B, 6), (F, 6) 를 순차적으로 추출해 각 노드  기반으로 인접한 노드와의 거리 계산\n",
    "- 예제의 방향 그래프에서 B 노드는 다른 노드로 가는 루트가 없음 \n",
    "- F 노드는 A 노드로 가는 루트가 있으나, 현재 A - A 가 0 인 반면에 A - F - A 는 6 + 5 = 11, 즉 더 긴 거리이므로 업데이트되지 않음"
   ]
  },
  {
   "cell_type": "markdown",
   "id": "ad74e0ef",
   "metadata": {},
   "source": [
    "<img src=\"https://www.fun-coding.org/00_Images/dijkstra_4th.png\">"
   ]
  },
  {
   "cell_type": "markdown",
   "id": "35f225a1",
   "metadata": {},
   "source": [
    "### 6단계: 우선순위 큐에서 (F, 7), (B, 8) 를 순차적으로 추출해 각 노드  기반으로 인접한 노드와의 거리 계산\n",
    "- A - F 로 가는 하나의 루트의 거리가 7 인 상황이나, 배열에서 이미 A - F 로 가는 현재의 최단 거리가 6인 루트의 값이 있는 상황이므로, 더 긴거리인 F, 7 루트 기반 인접 노드까지의 거리는 계산할 필요가 없음, 그래서 계산없이 스킵함\n",
    "  - 계산하더라도 A - F 거리가 6인 루트보다 무조건 더 긴거리가 나올 수 밖에 없음\n",
    "- B, 8 도 현재 A - B 거리가 6이므로, 인접 노드 거리 계산이 필요 없음. \n",
    "\n",
    "> 우선순위 큐를 사용하면 불필요한 계산 과정을 줄일 수 있음"
   ]
  },
  {
   "cell_type": "markdown",
   "id": "d8adc232",
   "metadata": {},
   "source": [
    "<img src=\"https://www.fun-coding.org/00_Images/dijkstra_5th.png\">\n",
    "\n",
    "### 우선순위 큐 사용 장점\n",
    "- 지금까지 발견된 가장 짧은 거리의 노드에 대해서 먼저 계산\n",
    "- 더 긴 거리로 계산된 루트에 대해서는 계산을 스킵할 수 있음"
   ]
  },
  {
   "cell_type": "markdown",
   "id": "acf57aa8",
   "metadata": {},
   "source": [
    "### 5. 시간 복잡도\n",
    "- 위 다익스트라 알고리즘은 크게 다음 두 가지 과정을 거침\n",
    "  - 과정1: 각 노드마다 인접한 간선들을 모두 검사하는 과정\n",
    "  - 과정2: 우선순위 큐에 노드/거리 정보를 넣고 삭제(pop)하는 과정\n",
    "  \n",
    "- 각 과정별 시간 복잡도\n",
    "  - 과정1: 각 노드는 최대 한 번씩 방문하므로 (첫 노드와 해당 노드간의 갈 수 있는 루트가 있는 경우만 해당), 그래프의 모든 간선은 최대 한 번씩 검사\n",
    "    - 즉, 각 노드마다 인접한 간선들을 모두 검사하는 과정은 O(E) 시간이 걸림, E 는 간선(edge)의 약자\n",
    "\n",
    "  - 과정2: 우선순위 큐에 가장 많은 노드, 거리 정보가 들어가는 경우, 우선순위 큐에 노드/거리 정보를 넣고, 삭제하는 과정이 최악의 시간이 걸림\n",
    "    - 우선순위 큐에 가장 많은 노드, 거리 정보가 들어가는 시나리오는 그래프의 모든 간선이 검사될 때마다, 배열의 최단 거리가 갱신되고, 우선순위 큐에 노드/거리가 추가되는 것임\n",
    "    - 이 때 추가는 각 간선마다 최대 한 번 일어날 수 있으므로, 최대 O(E)의 시간이 걸리고, O(E) 개의 노드/거리 정보에 대해 우선순위 큐를 유지하는 작업은 $ O(log{E}) $ 가 걸림\n",
    "      - 따라서 해당 과정의 시간 복잡도는 $ O(Elog{E}) $ \n",
    "    \n",
    "### 총 시간 복잡도\n",
    "  - 과정1 + 과정2 = O(E) + $ O(Elog{E}) $  = $ O(E + Elog{E}) = O(Elog{E}) $\n",
    "  \n",
    "### 참고: 힙의 시간 복잡도\n",
    "- depth (트리의 높이) 를 h라고 표기한다면,\n",
    "- n개의 노드를 가지는 heap 에 데이터 삽입 또는 삭제시, 최악의 경우 root 노드에서 leaf 노드까지 비교해야 하므로  h=log2n  에 가까우므로, 시간 복잡도는  O(logn)"
   ]
  },
  {
   "cell_type": "code",
   "execution_count": 12,
   "id": "f9c69c1f",
   "metadata": {},
   "outputs": [
    {
     "name": "stdout",
     "output_type": "stream",
     "text": [
      "[1, 2, 3, 4, 5]\n",
      "[inf, 6, 3, 4, 2, 0] [None, 2, 4, 4, 5, None] []\n"
     ]
    }
   ],
   "source": [
    "# 각 정점과 연결된 정점까지의 거리와 그 정점을 튜플로 저장\n",
    "import copy\n",
    "\n",
    "Graph = [\n",
    "    [],\n",
    "    [(6, 3),(3,4)],\n",
    "    [(3,1),],\n",
    "    [(1,4)],\n",
    "    [(1,2),(2,3)],\n",
    "    [(4,2),(2,4)]\n",
    "]\n",
    "\n",
    "visited = []\n",
    "source = 5\n",
    "dist = []\n",
    "prev = []\n",
    "Q = []\n",
    "\n",
    "for i in range(len(Graph)):\n",
    "\n",
    "    dist.append(float('inf'))\n",
    "    prev.append(None)\n",
    "    visited.append(0)\n",
    "\n",
    "    if i > 0:\n",
    "        Q.append(i)    \n",
    "\n",
    "print(Q)\n",
    "dist[source] = 0\n",
    "dist_copy = copy.deepcopy(dist)\n",
    "\n",
    "# dist_copy를 만든다\n",
    "# 최솟값을 찾은 dist는 dist_copy inf로 저장한다\n",
    "# dist_copy에서 최솟값을 찾는다.\n",
    "\n",
    "while Q:\n",
    "    \n",
    "    # 너무 비효율적이다.\n",
    "    # 이전에 탐색했던 노드를 dist에서 고려하지 않도록 해야한다.\n",
    "    if dist.index(min(dist_copy)) in Q:\n",
    "        u =  dist.index(min(dist_copy))\n",
    "        visited[u] = 1\n",
    "        dist_copy[u] = float('inf')\n",
    "    \n",
    "    # Q 리스트 값 제거\n",
    "    Q.pop(Q.index(u))\n",
    "    \n",
    "    # dist 갱신\n",
    "    for weight, v in Graph[u]:\n",
    "        alt = dist[u] + weight\n",
    "        if alt < dist[v]:\n",
    "            dist[v] = alt\n",
    "            prev[v] = u\n",
    "    \n",
    "    # dist_copy 갱신\n",
    "    for idx in range(len(Graph)):\n",
    "        if not visited[idx] and dist[idx] != float('inf'):\n",
    "            dist_copy[idx] = dist[idx]\n",
    "    \n",
    "    \n",
    "# 방문했던 정점을 또 방문할 수 있음(dist에서 최소값이므로)\n",
    "# visited 리스트를 만들어서 해당 정점을 재방문하지 않도록 함\n",
    "print(dist, prev, Q)"
   ]
  }
 ],
 "metadata": {
  "kernelspec": {
   "display_name": "Python 3 (ipykernel)",
   "language": "python",
   "name": "python3"
  },
  "language_info": {
   "codemirror_mode": {
    "name": "ipython",
    "version": 3
   },
   "file_extension": ".py",
   "mimetype": "text/x-python",
   "name": "python",
   "nbconvert_exporter": "python",
   "pygments_lexer": "ipython3",
   "version": "3.9.7"
  }
 },
 "nbformat": 4,
 "nbformat_minor": 5
}
